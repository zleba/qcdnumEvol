{
 "cells": [
  {
   "cell_type": "markdown",
   "metadata": {},
   "source": [
    "# Fixed flavour QCDNUM evolution"
   ]
  },
  {
   "cell_type": "markdown",
   "metadata": {},
   "source": [
    "This code performs DGLAP evolution with nf=3 (FFNS) using QCDNUM.\n",
    "First, the library has to be loaded"
   ]
  },
  {
   "cell_type": "code",
   "execution_count": 1,
   "metadata": {},
   "outputs": [],
   "source": [
    "R__ADD_INCLUDE_PATH(/qcdnumBuild/include/)\n",
    "R__LOAD_LIBRARY(/qcdnumBuild/lib/libQCDNUM.so)\n",
    "#pragma cling load(\"QCDNUM/QCDNUM.h\")"
   ]
  },
  {
   "cell_type": "markdown",
   "metadata": {},
   "source": [
    "Set the constants of the starting PDF, the starting parametrization."
   ]
  },
  {
   "cell_type": "code",
   "execution_count": 2,
   "metadata": {},
   "outputs": [],
   "source": [
    "/*\n",
    "double aq = 0.69876;\n",
    "double bq = 1.5024;\n",
    "double cq = 0.44690;\n",
    "double ag = 0.36781;\n",
    "double bg = 0;\n",
    "double cg = 0;\n",
    "*/\n",
    "\n",
    "double aq = 1.06;\n",
    "double bq = 2.3;\n",
    "double cq = 0.57;\n",
    "double ag = 0.15;\n",
    "double bg = 0.00;\n",
    "double cg = -0.95;\n"
   ]
  },
  {
   "cell_type": "code",
   "execution_count": 3,
   "metadata": {},
   "outputs": [],
   "source": [
    "double xf0(double x, double a, double b, double c) {\n",
    "  double pd = a * pow(x,b) * pow((1-x),c);\n",
    "  return pd;\n",
    "}"
   ]
  },
  {
   "cell_type": "code",
   "execution_count": 4,
   "metadata": {},
   "outputs": [],
   "source": [
    "double func(int* ipdf, double* x) {\n",
    "  int i = *ipdf;\n",
    "  double xb = *x;\n",
    "  double f = 0;\n",
    "  if(i == 0) f = xf0(xb, ag, bg, cg);\n",
    "  else if(4 <= i && i <= 6) f = xf0(xb, aq, bq, cq);\n",
    "  else f = 0;\n",
    "  return f * exp(-0.01/(1-xb));\n",
    "}"
   ]
  },
  {
   "cell_type": "markdown",
   "metadata": {},
   "source": [
    "Evolution by QCDNUM:"
   ]
  },
  {
   "cell_type": "code",
   "execution_count": 5,
   "metadata": {},
   "outputs": [
    {
     "name": "stdout",
     "output_type": "stream",
     "text": [
      " \n",
      "                  ///                                  .().                 \n",
      "                 (..)                                  (--)                 \n",
      "  +----------ooO--()--Ooo--------------------------ooO------Ooo---------+   \n",
      "  |                                                                     |   \n",
      "  |    #####      ######    ######     ##    ##   ##    ##   ##     ##  |   \n",
      "  |   ##   ##    ##    ##   ##   ##    ###   ##   ##    ##   ###   ###  |   \n",
      "  |  ##     ##   ##    ##   ##    ##   ####  ##   ##    ##   #### ####  |   \n",
      "  |  ##     ##   ##         ##    ##   ## ## ##   ##    ##   ## ### ##  |   \n",
      "  |  ##     ##   ##         ##    ##   ##  ####   ##    ##   ##  #  ##  |   \n",
      "  |   ##   ##    ##    ##   ##   ##    ##   ###   ##    ##   ##     ##  |   \n",
      "  |    #####      ######    ######     ##    ##    ######    ##     ##  |   \n",
      "  |        ##                                                           |   \n",
      "  |                                                                     |   \n",
      "  |    Version 17-01-14    21-12-17         Author m.botje@nikhef.nl    |   \n",
      "  |                                                                     |   \n",
      "  +---------------------------------------------------------------------+   \n",
      "\n",
      "\n",
      "  +---------------------------------------------------------------------+   \n",
      "  |                                                                     |   \n",
      "  |    If you use QCDNUM, please refer to:                              |   \n",
      "  |                                                                     |   \n",
      "  |    M. Botje, Comput. Phys. Commun. 182(2011)490, arXiV:1005.1481    |   \n",
      "  |                                                                     |   \n",
      "  +---------------------------------------------------------------------+   \n",
      "\n",
      " FILLWT: start unpolarised weight calculations\n",
      " Subgrids    5 Subgrid points   38   48   62   62   94\n",
      " Pij LO\n",
      " Pij NLO\n",
      " Pij NNLO\n",
      " Aij NNLO\n",
      " FILLWT: weight calculations completed\n",
      "\n"
     ]
    }
   ],
   "source": [
    "  int ityp = 1, iord = 2, nfin = 3;                //unpol, NLO, VFNS\n",
    "  double q0 = 1.75;\n",
    "  double as0 = 0.368915, r20 = 1.75;                          //input alphas\n",
    "  double xmin[] = {9.9e-7, 0.01e0, 0.10e0, 0.40e0, 0.70e0};                                      //x-grid\n",
    "  int    iwt[] = {1,2,4,8,16}, ng = 5, nxin = 200, iosp = 2;             //x-grid\n",
    "  int    nqin = 250;                                           //mu2-grid\n",
    "  double qq[] = { q0, 1600}, wt[] = { 1e0, 1e0};              //mu2-grid\n",
    "    \n",
    "  double def[] =                             //input flavour composition\n",
    "  // tb  bb  cb  sb  ub  db   g   d   u   s   c   b   t\n",
    "    { 0., 0., 0., 0., 0.,-1., 0., 1., 0., 0., 0., 0., 0.,      // 1=dval\n",
    "      0., 0., 0., 0.,-1., 0., 0., 0., 1., 0., 0., 0., 0.,      // 2=uval\n",
    "      0., 0., 0.,-1., 0., 0., 0., 0., 0., 1., 0., 0., 0.,      // 3=sval\n",
    "      0., 0., 0., 0., 0., 1., 0., 0., 0., 0., 0., 0., 0.,      // 4=dbar\n",
    "      0., 0., 0., 0., 1., 0., 0., 0., 0., 0., 0., 0., 0.,      // 5=ubar\n",
    "      0., 0., 0., 1., 0., 0., 0., 0., 0., 0., 0., 0., 0.,      // 6=sbar\n",
    "      0., 0.,-1., 0., 0., 0., 0., 0., 0., 0., 1., 0., 0.,      // 7=cval\n",
    "      0., 0., 1., 0., 0., 0., 0., 0., 0., 0., 0., 0., 0.,      // 8=cbar\n",
    "      0., 0., 0., 0., 0., 0., 0., 0., 0., 0., 0., 0., 0.,      // 9=zero\n",
    "      0., 0., 0., 0., 0., 0., 0., 0., 0., 0., 0., 0., 0.,      //10=zero\n",
    "      0., 0., 0., 0., 0., 0., 0., 0., 0., 0., 0., 0., 0.,      //11=zero\n",
    "      0., 0., 0., 0., 0., 0., 0., 0., 0., 0., 0., 0., 0.};     //12=zero\n",
    "    \n",
    "  int nx, nq, id1, id2, nw; double eps;\n",
    "  int lun = 6 ; string outfile = \" \";\n",
    "  QCDNUM::qcinit(lun,outfile);                              //initialize\n",
    "  QCDNUM::gxmake(xmin,iwt,ng,nxin,nx,iosp);                     //x-grid\n",
    "  QCDNUM::gqmake(qq,wt,2,nqin,nq);                            //mu2-grid\n",
    "  QCDNUM::fillwt(1,id1,id2,nw);                      //calculate weights\n",
    "  QCDNUM::setord(iord);                                  //LO, NLO, NNLO\n",
    "  QCDNUM::setalf(as0,r20);                                //input alphas\n",
    "  QCDNUM::setcbt(nfin,999,999,999);             //thresholds in the VFNS\n",
    "\n",
    "  int iq0  = QCDNUM::iqfrmq(q0);                           //start scale\n",
    "  QCDNUM::evolfg(1,func,def,iq0,eps);                 //evolve all pdf's"
   ]
  },
  {
   "cell_type": "code",
   "execution_count": 6,
   "metadata": {},
   "outputs": [],
   "source": [
    "double q = 20;\n",
    "gG  = new TGraph();\n",
    "gQ  = new TGraph();\n",
    "gG0 = new TGraph();\n",
    "gQ0 = new TGraph();\n",
    "\n",
    "for(double x = 1e-3; x < 1; x *= 1.01) { //fill the graphs\n",
    "    double pdf[13];\n",
    "    QCDNUM::allfxq(1,x,q,pdf,0,1); \n",
    "    gG->SetPoint(gG->GetN(), x, pdf[6]);\n",
    "    gQ->SetPoint(gQ->GetN(), x, pdf[7]);\n",
    "    QCDNUM::allfxq(1,x,q0,pdf,0,1); \n",
    "    gG0->SetPoint(gG0->GetN(), x, pdf[6]);\n",
    "    gQ0->SetPoint(gQ0->GetN(), x, pdf[7]);\n",
    "}\n",
    "TCanvas *can = new TCanvas();\n",
    "can->SetLogx();"
   ]
  },
  {
   "cell_type": "markdown",
   "metadata": {},
   "source": [
    "### Gloun PDF at scale 20 GeV2"
   ]
  },
  {
   "cell_type": "code",
   "execution_count": 7,
   "metadata": {},
   "outputs": [
    {
     "data": {
      "image/png": "[encoded data removed]",
      "text/plain": [
       "<IPython.core.display.Image object>"
      ]
     },
     "metadata": {},
     "output_type": "display_data"
    }
   ],
   "source": [
    "//gG->Draw();\n",
    "gQ->Draw();\n",
    "can->Draw();"
   ]
  },
  {
   "cell_type": "markdown",
   "metadata": {},
   "source": [
    "### Quark PDF at scale 20 GeV2"
   ]
  },
  {
   "cell_type": "code",
   "execution_count": 8,
   "metadata": {},
   "outputs": [
    {
     "data": {
      "image/png": "[encoded data removed]",
      "text/plain": [
       "<IPython.core.display.Image object>"
      ]
     },
     "metadata": {},
     "output_type": "display_data"
    }
   ],
   "source": [
    "can->Clear();\n",
    "gG->Draw();\n",
    "can->Draw();"
   ]
  },
  {
   "cell_type": "markdown",
   "metadata": {},
   "source": [
    "### Gluon at the starting scale"
   ]
  },
  {
   "cell_type": "code",
   "execution_count": 9,
   "metadata": {},
   "outputs": [
    {
     "data": {
      "image/png": "[encoded data removed]",
      "text/plain": [
       "<IPython.core.display.Image object>"
      ]
     },
     "metadata": {},
     "output_type": "display_data"
    }
   ],
   "source": [
    "can->Clear();\n",
    "gG0->Draw();\n",
    "can->Draw();"
   ]
  }
 ],
 "metadata": {
  "kernelspec": {
   "display_name": "ROOT C++",
   "language": "c++",
   "name": "root"
  },
  "language_info": {
   "codemirror_mode": "text/x-c++src",
   "file_extension": ".C",
   "mimetype": " text/x-c++src",
   "name": "c++"
  }
 },
 "nbformat": 4,
 "nbformat_minor": 2
}
